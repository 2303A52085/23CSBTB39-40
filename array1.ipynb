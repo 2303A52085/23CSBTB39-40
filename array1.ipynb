{
  "nbformat": 4,
  "nbformat_minor": 0,
  "metadata": {
    "colab": {
      "provenance": [],
      "authorship_tag": "ABX9TyMnI9NKMA7S5VIWkcqJsUXb",
      "include_colab_link": true
    },
    "kernelspec": {
      "name": "python3",
      "display_name": "Python 3"
    },
    "language_info": {
      "name": "python"
    }
  },
  "cells": [
    {
      "cell_type": "markdown",
      "metadata": {
        "id": "view-in-github",
        "colab_type": "text"
      },
      "source": [
        "<a href=\"https://colab.research.google.com/github/2303A52085/23CSBTB39-40/blob/main/array1.ipynb\" target=\"_parent\"><img src=\"https://colab.research.google.com/assets/colab-badge.svg\" alt=\"Open In Colab\"/></a>"
      ]
    },
    {
      "cell_type": "code",
      "execution_count": 1,
      "metadata": {
        "colab": {
          "base_uri": "https://localhost:8080/"
        },
        "id": "InMv2GxRAnKm",
        "outputId": "4e7f3952-141a-49b5-cf5e-ad120c50cab3"
      },
      "outputs": [
        {
          "output_type": "stream",
          "name": "stdout",
          "text": [
            "[3, 4, 6, 7]\n",
            "[6, 3, 26, 7]\n",
            "<class 'list'>\n",
            "<class 'list'>\n"
          ]
        }
      ],
      "source": [
        "list1=[3,4,6,7]\n",
        "list2=[6,3,26,7]\n",
        "print(list1)\n",
        "print(list2)\n",
        "print(type(list1))\n",
        "print(type(list2))"
      ]
    },
    {
      "cell_type": "code",
      "source": [
        "import numpy as np\n",
        "array1=np.array(list1)\n",
        "print(array1)\n",
        "array2=np.array(list2)\n",
        "print(array2)"
      ],
      "metadata": {
        "colab": {
          "base_uri": "https://localhost:8080/"
        },
        "id": "OXeMT-dgC-ge",
        "outputId": "ee20988a-9401-4650-8749-b423a521c9e0"
      },
      "execution_count": 2,
      "outputs": [
        {
          "output_type": "stream",
          "name": "stdout",
          "text": [
            "[3 4 6 7]\n",
            "[ 6  3 26  7]\n"
          ]
        }
      ]
    },
    {
      "cell_type": "code",
      "source": [
        "print(array1+array2)"
      ],
      "metadata": {
        "colab": {
          "base_uri": "https://localhost:8080/"
        },
        "id": "q7Ut3nA-DWSA",
        "outputId": "92d48c03-5e5e-49e4-f10e-97b508e5fb9e"
      },
      "execution_count": 3,
      "outputs": [
        {
          "output_type": "stream",
          "name": "stdout",
          "text": [
            "[ 9  7 32 14]\n"
          ]
        }
      ]
    },
    {
      "cell_type": "code",
      "source": [
        "print(type(array1))\n",
        "print(type(array2))\n"
      ],
      "metadata": {
        "colab": {
          "base_uri": "https://localhost:8080/"
        },
        "id": "0t0WX2L9E7za",
        "outputId": "f3c4d9aa-b836-4eac-e344-2921ed8c214f"
      },
      "execution_count": 4,
      "outputs": [
        {
          "output_type": "stream",
          "name": "stdout",
          "text": [
            "<class 'numpy.ndarray'>\n",
            "<class 'numpy.ndarray'>\n"
          ]
        }
      ]
    },
    {
      "cell_type": "code",
      "source": [
        "print(list1+list2)\n",
        "print(array1*array2)\n",
        "print(array1-array2)\n"
      ],
      "metadata": {
        "colab": {
          "base_uri": "https://localhost:8080/"
        },
        "id": "8VEBzaUgGjqf",
        "outputId": "a42d75ee-687f-4b5b-e3f4-f09bd7b56656"
      },
      "execution_count": 11,
      "outputs": [
        {
          "output_type": "stream",
          "name": "stdout",
          "text": [
            "[3, 4, 6, 7, 6, 3, 26, 7]\n",
            "[ 18  12 156  49]\n",
            "[ -3   1 -20   0]\n",
            "[0.5        1.33333333 0.23076923 1.        ]\n"
          ]
        }
      ]
    },
    {
      "cell_type": "code",
      "source": [
        "division=array1/array2\n",
        "print(division)"
      ],
      "metadata": {
        "colab": {
          "base_uri": "https://localhost:8080/"
        },
        "id": "_AjypMTZHeQF",
        "outputId": "5a83beb4-24dc-4e4b-c9e7-fc34090d468b"
      },
      "execution_count": 12,
      "outputs": [
        {
          "output_type": "stream",
          "name": "stdout",
          "text": [
            "[0.5        1.33333333 0.23076923 1.        ]\n"
          ]
        }
      ]
    },
    {
      "cell_type": "code",
      "source": [
        "addition=array1+array2\n",
        "print(addition)"
      ],
      "metadata": {
        "colab": {
          "base_uri": "https://localhost:8080/"
        },
        "id": "hBZwrxeyIJ6p",
        "outputId": "b6daf37d-8868-410e-fc6b-69b397b7f186"
      },
      "execution_count": 17,
      "outputs": [
        {
          "output_type": "stream",
          "name": "stdout",
          "text": [
            "[ 9  7 32 14]\n"
          ]
        }
      ]
    },
    {
      "cell_type": "code",
      "source": [
        "poweroff=array1**2\n",
        "print(poweroff)\n",
        "poweroff2=array2**3\n",
        "print(poweroff2)"
      ],
      "metadata": {
        "colab": {
          "base_uri": "https://localhost:8080/"
        },
        "id": "R-Guz2GZI7Zi",
        "outputId": "83ab44ee-0568-4a63-9161-33ac9c0b7f18"
      },
      "execution_count": 20,
      "outputs": [
        {
          "output_type": "stream",
          "name": "stdout",
          "text": [
            "[ 9 16 36 49]\n",
            "[  216    27 17576   343]\n"
          ]
        }
      ]
    },
    {
      "cell_type": "code",
      "source": [
        "print(\"addtion of two arrays:\",array1,\"+\",array2,\"is\",addition)"
      ],
      "metadata": {
        "colab": {
          "base_uri": "https://localhost:8080/"
        },
        "id": "8gUGDAIGJ8G_",
        "outputId": "57871e7c-3931-42b6-a56a-8b01147250ac"
      },
      "execution_count": 21,
      "outputs": [
        {
          "output_type": "stream",
          "name": "stdout",
          "text": [
            "addtion of two arrays: [3 4 6 7] + [ 6  3 26  7] is [ 9  7 32 14]\n"
          ]
        }
      ]
    },
    {
      "cell_type": "code",
      "source": [
        "sin = np.sin(array1)\n",
        "print(\"sin result for\",array1,\":\",sin)\n",
        "sin2 = np.sin(array2)\n",
        "print(\"sin result for\",array2,\":\",sin2)\n",
        "log=np.log(array1)\n",
        "print(\"log result for\",array1,\":\",log)\n",
        "log2=np.log(array2)\n",
        "print(\"log result for\",array2,\":\",log2)\n",
        "exp=np.exp(array1)\n",
        "print(\"expainstion result for\",array1,\":\",exp)\n",
        "exp2=np.exp(array2)\n",
        "print(\"expainstion result for\",array2,\":\",exp2)"
      ],
      "metadata": {
        "colab": {
          "base_uri": "https://localhost:8080/"
        },
        "id": "yC8_a5HLLCgO",
        "outputId": "5f4597d9-a8d6-4d89-ebaf-2ca961ad228b"
      },
      "execution_count": 24,
      "outputs": [
        {
          "output_type": "stream",
          "name": "stdout",
          "text": [
            "sin result for [3 4 6 7] : [ 0.14112001 -0.7568025  -0.2794155   0.6569866 ]\n",
            "sin result for [ 6  3 26  7] : [-0.2794155   0.14112001  0.76255845  0.6569866 ]\n",
            "log result for [3 4 6 7] : [1.09861229 1.38629436 1.79175947 1.94591015]\n",
            "log result for [ 6  3 26  7] : [1.79175947 1.09861229 3.25809654 1.94591015]\n",
            "expainstion result for [3 4 6 7] : [  20.08553692   54.59815003  403.42879349 1096.63315843]\n",
            "expainstion result for [ 6  3 26  7] : [4.03428793e+02 2.00855369e+01 1.95729609e+11 1.09663316e+03]\n"
          ]
        }
      ]
    }
  ]
}