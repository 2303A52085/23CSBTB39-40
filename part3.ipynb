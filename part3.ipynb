{
  "nbformat": 4,
  "nbformat_minor": 0,
  "metadata": {
    "colab": {
      "provenance": [],
      "authorship_tag": "ABX9TyPdMzPWLuwSJ0IfoiY2Kg74",
      "include_colab_link": true
    },
    "kernelspec": {
      "name": "python3",
      "display_name": "Python 3"
    },
    "language_info": {
      "name": "python"
    }
  },
  "cells": [
    {
      "cell_type": "markdown",
      "metadata": {
        "id": "view-in-github",
        "colab_type": "text"
      },
      "source": [
        "<a href=\"https://colab.research.google.com/github/2303A52085/23CSBTB39-40/blob/main/part3.ipynb\" target=\"_parent\"><img src=\"https://colab.research.google.com/assets/colab-badge.svg\" alt=\"Open In Colab\"/></a>"
      ]
    },
    {
      "cell_type": "code",
      "execution_count": 5,
      "metadata": {
        "id": "hakFVBNXONE1",
        "colab": {
          "base_uri": "https://localhost:8080/"
        },
        "outputId": "128d299a-55bf-4c67-9cbf-92a77fd40513"
      },
      "outputs": [
        {
          "output_type": "stream",
          "name": "stdout",
          "text": [
            "   stid      Name Course  Contact NO\n",
            "0  2085    Harsha   AIML  3672891972\n",
            "1  2087  Varshith   AIML  2518927196\n",
            "2  2090       Sam   AIML  2738916287\n",
            "3  2084  sathwika   AIML  9866529712\n",
            "4  1232    Tharun    CSE  8978583605\n",
            "5  1250      Indu    CSE  7382639979\n",
            "6  1230   Hamsika    CSE  9951720365\n"
          ]
        }
      ],
      "source": [
        "import pandas as pd\n",
        "df=pd.read_excel(\"student.xlsx\")\n",
        "df=pd.read_csv(\"student.csv\")\n",
        "print(df)"
      ]
    },
    {
      "cell_type": "code",
      "source": [
        "from queue import Queue\n",
        "graph={0: [1, 2, 3],\n",
        "       1: [0, 2],\n",
        "       2: [1, 3, 5],\n",
        "       3: [0, 2, 4],\n",
        "       4: [3, 5, 7],\n",
        "       5: [2, 4, 6, 7],\n",
        "       6: [5, 7],\n",
        "       7: []}\n",
        "print(\"The adjacency List representing the graph is:\")\n",
        "print(graph)\n",
        "\n",
        "def bfs(graph, source):\n",
        "  Q=Queue()\n",
        "  visited_vertices=set()\n",
        "  Q.put(source)\n",
        "  visited_vertices.update({source})\n",
        "  while not Q.empty():\n",
        "    vertex=Q.get()\n",
        "    print(vertex, end=\"-->\")\n",
        "    for u in graph[vertex]:\n",
        "      if u not in visited_vertices:\n",
        "        Q.put(u)\n",
        "        visited_vertices.update({u})\n",
        "print(\"BFS traversal of graph with source 1 is:\")\n",
        "bfs(graph, 1)"
      ],
      "metadata": {
        "colab": {
          "base_uri": "https://localhost:8080/"
        },
        "id": "IHHQzoFmSz5p",
        "outputId": "f3380ea3-d0e8-41bc-f5ef-8b798973abba"
      },
      "execution_count": null,
      "outputs": [
        {
          "output_type": "stream",
          "name": "stdout",
          "text": [
            "The adjacency List representing the graph is:\n",
            "{0: [1, 2, 3], 1: [0, 2], 2: [1, 3, 5], 3: [0, 2, 4], 4: [3, 5, 7], 5: [2, 4, 6, 7], 6: [5, 7], 7: []}\n",
            "BFS traversal of graph with source 1 is:\n",
            "1-->0-->2-->3-->5-->4-->6-->7-->"
          ]
        }
      ]
    }
  ]
}